{
 "cells": [
  {
   "cell_type": "code",
   "execution_count": 77,
   "metadata": {},
   "outputs": [
    {
     "name": "stdout",
     "output_type": "stream",
     "text": [
      "['sunny', 'warm', 'normal', 'strong', 'warm', 'same', 'Yes']\n",
      "['sunny', 'warm', 'high', 'strong', 'warm', 'same', 'Yes']\n",
      "['rainy', 'cold', 'high', 'strong', 'warm', 'change', 'No']\n",
      "['sunny', 'warm', 'high', 'strong', 'cool', 'change', 'Yes']\n",
      "('The sample instances are', 4)\n",
      "initial hypothesis:\n",
      "['0', '0', '0', '0', '0', '0']\n",
      "('the instances of 0 are', ['sunny', 'warm', 'normal', 'strong', 'warm', 'same'])\n",
      "('the instances of 1 are', ['sunny', 'warm', '?', 'strong', 'warm', 'same'])\n",
      "('the instances of 2 are', ['sunny', 'warm', '?', 'strong', 'warm', 'same'])\n",
      "('the instances of 3 are', ['sunny', 'warm', '?', 'strong', '?', '?'])\n",
      "\n",
      " the maximally specific hypothesis is: \n",
      "\n",
      "['sunny', 'warm', '?', 'strong', '?', '?']\n"
     ]
    }
   ],
   "source": [
    "import csv\n",
    "num = 6\n",
    "a = [ ]\n",
    "with open ('/home/weblab-sys-21/Desktop/pgm1& 2.csv','r') as csvfile:\n",
    "    reader=csv.reader(csvfile)\n",
    "    for row in reader:\n",
    "        a.append(row)\n",
    "        print(row)\n",
    "print(\"The sample instances are\",len(a))\n",
    "num=len(a[0])-1\n",
    "print(\"initial hypothesis:\")\n",
    "hypothesis = ['0']*num\n",
    "print(hypothesis)\n",
    "for j in range(0,num):\n",
    "    hypothesis[j]=a[0][j]\n",
    "for i in range(0,len(a)):\n",
    "    if a[i][num]=='Yes':\n",
    "        for j in range(0,num):\n",
    "            if a[i][j]!= hypothesis[j]:\n",
    "                hypothesis[j]='?'\n",
    "            else:\n",
    "                hypothesis[j]=a[i][j]\n",
    "    print(\"the instances of {0} are\".format(i),hypothesis)\n",
    "print(\"\\n the maximally specific hypothesis is: \\n\")\n",
    "print(hypothesis)\n",
    "                        "
   ]
  },
  {
   "cell_type": "code",
   "execution_count": null,
   "metadata": {},
   "outputs": [],
   "source": []
  },
  {
   "cell_type": "code",
   "execution_count": null,
   "metadata": {},
   "outputs": [],
   "source": []
  }
 ],
 "metadata": {
  "kernelspec": {
   "display_name": "Python 3",
   "language": "python",
   "name": "python3"
  },
  "language_info": {
   "codemirror_mode": {
    "name": "ipython",
    "version": 2
   },
   "file_extension": ".py",
   "mimetype": "text/x-python",
   "name": "python",
   "nbconvert_exporter": "python",
   "pygments_lexer": "ipython2",
   "version": "2.7.15"
  }
 },
 "nbformat": 4,
 "nbformat_minor": 2
}
